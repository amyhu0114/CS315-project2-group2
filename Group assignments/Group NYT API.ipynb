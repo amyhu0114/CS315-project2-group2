{
<<<<<<< HEAD:Group NYT API.ipynb
  "cells": [
=======
 "cells": [
  {
   "cell_type": "markdown",
   "id": "47c1b10a",
   "metadata": {},
   "source": [
    "Python function that takes a date, for example, \"2024-02-12\", and returns the list of articles for that day (extracting it from the month’s archive)."
   ]
  },
  {
   "cell_type": "code",
   "execution_count": 4,
   "id": "57c60306",
   "metadata": {},
   "outputs": [],
   "source": [
    "import requests\n",
    "import datetime\n",
    "from datetime import datetime"
   ]
  },
  {
   "cell_type": "code",
   "execution_count": 2,
   "id": "9de6c0d8",
   "metadata": {},
   "outputs": [],
   "source": [
    "url = \"\""
   ]
  },
  {
   "cell_type": "code",
   "execution_count": 5,
   "id": "72567bb8",
   "metadata": {},
   "outputs": [],
   "source": [
    "data = requests.get(url)"
   ]
  },
  {
   "cell_type": "code",
   "execution_count": 6,
   "id": "a433411c",
   "metadata": {},
   "outputs": [],
   "source": [
    "articles = data.json()"
   ]
  },
  {
   "cell_type": "code",
   "execution_count": 7,
   "id": "d0512827",
   "metadata": {},
   "outputs": [],
   "source": [
    "allStories = articles['response']['docs']"
   ]
  },
  {
   "cell_type": "code",
   "execution_count": 8,
   "id": "63d1214a",
   "metadata": {},
   "outputs": [],
   "source": [
    "def day_articles(day, all_articles):\n",
    "    articles = []\n",
    "    # changes date from string to date object\n",
    "    day = datetime.strptime(day, \"%Y-%m-%d\")\n",
    "\n",
    "    for article in all_articles:\n",
    "        pub_date = datetime.strptime(article['pub_date'][:10], \"%Y-%m-%d\")\n",
    "        if pub_date == day:\n",
    "            articles.append(article)\n",
    "\n",
    "    return articles"
   ]
  },
  {
   "cell_type": "code",
   "execution_count": 7,
   "id": "393104d9-0d09-4a33-b8a5-17f3ebe08407",
   "metadata": {},
   "outputs": [
>>>>>>> refs/remotes/origin/main:Group assignments/Group NYT API.ipynb
    {
      "cell_type": "markdown",
      "id": "47c1b10a",
      "metadata": {
        "id": "47c1b10a"
      },
      "source": [
        "**Fridah**: Python function that takes a date, for example, \"2024-02-12\", and returns the list of articles for that day (extracting it from the month’s archive)."
      ]
    },
    {
      "cell_type": "code",
      "execution_count": null,
      "id": "57c60306",
      "metadata": {
        "id": "57c60306"
      },
      "outputs": [],
      "source": [
        "import requests\n",
        "import datetime\n",
        "from datetime import datetime"
      ]
    },
    {
      "cell_type": "code",
      "execution_count": null,
      "id": "9de6c0d8",
      "metadata": {
        "id": "9de6c0d8"
      },
      "outputs": [],
      "source": [
        "url = \"\""
      ]
    },
    {
      "cell_type": "code",
      "execution_count": null,
      "id": "72567bb8",
      "metadata": {
        "id": "72567bb8",
        "outputId": "022fcb7c-bcff-4e92-ce4f-f9173b6edf1f"
      },
      "outputs": [
        {
          "ename": "MissingSchema",
          "evalue": "Invalid URL '': No scheme supplied. Perhaps you meant https://?",
          "output_type": "error",
          "traceback": [
            "\u001b[0;31m---------------------------------------------------------------------------\u001b[0m",
            "\u001b[0;31mMissingSchema\u001b[0m                             Traceback (most recent call last)",
            "\u001b[0;32m/var/folders/3l/30j2pvmx0pjbwnzd4_6ndxym0000gn/T/ipykernel_5836/1770528888.py\u001b[0m in \u001b[0;36m<module>\u001b[0;34m\u001b[0m\n\u001b[0;32m----> 1\u001b[0;31m \u001b[0mdata\u001b[0m \u001b[0;34m=\u001b[0m \u001b[0mrequests\u001b[0m\u001b[0;34m.\u001b[0m\u001b[0mget\u001b[0m\u001b[0;34m(\u001b[0m\u001b[0murl\u001b[0m\u001b[0;34m)\u001b[0m\u001b[0;34m\u001b[0m\u001b[0;34m\u001b[0m\u001b[0m\n\u001b[0m",
            "\u001b[0;32m~/opt/anaconda3/lib/python3.9/site-packages/requests/api.py\u001b[0m in \u001b[0;36mget\u001b[0;34m(url, params, **kwargs)\u001b[0m\n\u001b[1;32m     71\u001b[0m     \"\"\"\n\u001b[1;32m     72\u001b[0m \u001b[0;34m\u001b[0m\u001b[0m\n\u001b[0;32m---> 73\u001b[0;31m     \u001b[0;32mreturn\u001b[0m \u001b[0mrequest\u001b[0m\u001b[0;34m(\u001b[0m\u001b[0;34m\"get\"\u001b[0m\u001b[0;34m,\u001b[0m \u001b[0murl\u001b[0m\u001b[0;34m,\u001b[0m \u001b[0mparams\u001b[0m\u001b[0;34m=\u001b[0m\u001b[0mparams\u001b[0m\u001b[0;34m,\u001b[0m \u001b[0;34m**\u001b[0m\u001b[0mkwargs\u001b[0m\u001b[0;34m)\u001b[0m\u001b[0;34m\u001b[0m\u001b[0;34m\u001b[0m\u001b[0m\n\u001b[0m\u001b[1;32m     74\u001b[0m \u001b[0;34m\u001b[0m\u001b[0m\n\u001b[1;32m     75\u001b[0m \u001b[0;34m\u001b[0m\u001b[0m\n",
            "\u001b[0;32m~/opt/anaconda3/lib/python3.9/site-packages/requests/api.py\u001b[0m in \u001b[0;36mrequest\u001b[0;34m(method, url, **kwargs)\u001b[0m\n\u001b[1;32m     57\u001b[0m     \u001b[0;31m# cases, and look like a memory leak in others.\u001b[0m\u001b[0;34m\u001b[0m\u001b[0;34m\u001b[0m\u001b[0m\n\u001b[1;32m     58\u001b[0m     \u001b[0;32mwith\u001b[0m \u001b[0msessions\u001b[0m\u001b[0;34m.\u001b[0m\u001b[0mSession\u001b[0m\u001b[0;34m(\u001b[0m\u001b[0;34m)\u001b[0m \u001b[0;32mas\u001b[0m \u001b[0msession\u001b[0m\u001b[0;34m:\u001b[0m\u001b[0;34m\u001b[0m\u001b[0;34m\u001b[0m\u001b[0m\n\u001b[0;32m---> 59\u001b[0;31m         \u001b[0;32mreturn\u001b[0m \u001b[0msession\u001b[0m\u001b[0;34m.\u001b[0m\u001b[0mrequest\u001b[0m\u001b[0;34m(\u001b[0m\u001b[0mmethod\u001b[0m\u001b[0;34m=\u001b[0m\u001b[0mmethod\u001b[0m\u001b[0;34m,\u001b[0m \u001b[0murl\u001b[0m\u001b[0;34m=\u001b[0m\u001b[0murl\u001b[0m\u001b[0;34m,\u001b[0m \u001b[0;34m**\u001b[0m\u001b[0mkwargs\u001b[0m\u001b[0;34m)\u001b[0m\u001b[0;34m\u001b[0m\u001b[0;34m\u001b[0m\u001b[0m\n\u001b[0m\u001b[1;32m     60\u001b[0m \u001b[0;34m\u001b[0m\u001b[0m\n\u001b[1;32m     61\u001b[0m \u001b[0;34m\u001b[0m\u001b[0m\n",
            "\u001b[0;32m~/opt/anaconda3/lib/python3.9/site-packages/requests/sessions.py\u001b[0m in \u001b[0;36mrequest\u001b[0;34m(self, method, url, params, data, headers, cookies, files, auth, timeout, allow_redirects, proxies, hooks, stream, verify, cert, json)\u001b[0m\n\u001b[1;32m    573\u001b[0m             \u001b[0mhooks\u001b[0m\u001b[0;34m=\u001b[0m\u001b[0mhooks\u001b[0m\u001b[0;34m,\u001b[0m\u001b[0;34m\u001b[0m\u001b[0;34m\u001b[0m\u001b[0m\n\u001b[1;32m    574\u001b[0m         )\n\u001b[0;32m--> 575\u001b[0;31m         \u001b[0mprep\u001b[0m \u001b[0;34m=\u001b[0m \u001b[0mself\u001b[0m\u001b[0;34m.\u001b[0m\u001b[0mprepare_request\u001b[0m\u001b[0;34m(\u001b[0m\u001b[0mreq\u001b[0m\u001b[0;34m)\u001b[0m\u001b[0;34m\u001b[0m\u001b[0;34m\u001b[0m\u001b[0m\n\u001b[0m\u001b[1;32m    576\u001b[0m \u001b[0;34m\u001b[0m\u001b[0m\n\u001b[1;32m    577\u001b[0m         \u001b[0mproxies\u001b[0m \u001b[0;34m=\u001b[0m \u001b[0mproxies\u001b[0m \u001b[0;32mor\u001b[0m \u001b[0;34m{\u001b[0m\u001b[0;34m}\u001b[0m\u001b[0;34m\u001b[0m\u001b[0;34m\u001b[0m\u001b[0m\n",
            "\u001b[0;32m~/opt/anaconda3/lib/python3.9/site-packages/requests/sessions.py\u001b[0m in \u001b[0;36mprepare_request\u001b[0;34m(self, request)\u001b[0m\n\u001b[1;32m    484\u001b[0m \u001b[0;34m\u001b[0m\u001b[0m\n\u001b[1;32m    485\u001b[0m         \u001b[0mp\u001b[0m \u001b[0;34m=\u001b[0m \u001b[0mPreparedRequest\u001b[0m\u001b[0;34m(\u001b[0m\u001b[0;34m)\u001b[0m\u001b[0;34m\u001b[0m\u001b[0;34m\u001b[0m\u001b[0m\n\u001b[0;32m--> 486\u001b[0;31m         p.prepare(\n\u001b[0m\u001b[1;32m    487\u001b[0m             \u001b[0mmethod\u001b[0m\u001b[0;34m=\u001b[0m\u001b[0mrequest\u001b[0m\u001b[0;34m.\u001b[0m\u001b[0mmethod\u001b[0m\u001b[0;34m.\u001b[0m\u001b[0mupper\u001b[0m\u001b[0;34m(\u001b[0m\u001b[0;34m)\u001b[0m\u001b[0;34m,\u001b[0m\u001b[0;34m\u001b[0m\u001b[0;34m\u001b[0m\u001b[0m\n\u001b[1;32m    488\u001b[0m             \u001b[0murl\u001b[0m\u001b[0;34m=\u001b[0m\u001b[0mrequest\u001b[0m\u001b[0;34m.\u001b[0m\u001b[0murl\u001b[0m\u001b[0;34m,\u001b[0m\u001b[0;34m\u001b[0m\u001b[0;34m\u001b[0m\u001b[0m\n",
            "\u001b[0;32m~/opt/anaconda3/lib/python3.9/site-packages/requests/models.py\u001b[0m in \u001b[0;36mprepare\u001b[0;34m(self, method, url, headers, files, data, params, auth, cookies, hooks, json)\u001b[0m\n\u001b[1;32m    366\u001b[0m \u001b[0;34m\u001b[0m\u001b[0m\n\u001b[1;32m    367\u001b[0m         \u001b[0mself\u001b[0m\u001b[0;34m.\u001b[0m\u001b[0mprepare_method\u001b[0m\u001b[0;34m(\u001b[0m\u001b[0mmethod\u001b[0m\u001b[0;34m)\u001b[0m\u001b[0;34m\u001b[0m\u001b[0;34m\u001b[0m\u001b[0m\n\u001b[0;32m--> 368\u001b[0;31m         \u001b[0mself\u001b[0m\u001b[0;34m.\u001b[0m\u001b[0mprepare_url\u001b[0m\u001b[0;34m(\u001b[0m\u001b[0murl\u001b[0m\u001b[0;34m,\u001b[0m \u001b[0mparams\u001b[0m\u001b[0;34m)\u001b[0m\u001b[0;34m\u001b[0m\u001b[0;34m\u001b[0m\u001b[0m\n\u001b[0m\u001b[1;32m    369\u001b[0m         \u001b[0mself\u001b[0m\u001b[0;34m.\u001b[0m\u001b[0mprepare_headers\u001b[0m\u001b[0;34m(\u001b[0m\u001b[0mheaders\u001b[0m\u001b[0;34m)\u001b[0m\u001b[0;34m\u001b[0m\u001b[0;34m\u001b[0m\u001b[0m\n\u001b[1;32m    370\u001b[0m         \u001b[0mself\u001b[0m\u001b[0;34m.\u001b[0m\u001b[0mprepare_cookies\u001b[0m\u001b[0;34m(\u001b[0m\u001b[0mcookies\u001b[0m\u001b[0;34m)\u001b[0m\u001b[0;34m\u001b[0m\u001b[0;34m\u001b[0m\u001b[0m\n",
            "\u001b[0;32m~/opt/anaconda3/lib/python3.9/site-packages/requests/models.py\u001b[0m in \u001b[0;36mprepare_url\u001b[0;34m(self, url, params)\u001b[0m\n\u001b[1;32m    437\u001b[0m \u001b[0;34m\u001b[0m\u001b[0m\n\u001b[1;32m    438\u001b[0m         \u001b[0;32mif\u001b[0m \u001b[0;32mnot\u001b[0m \u001b[0mscheme\u001b[0m\u001b[0;34m:\u001b[0m\u001b[0;34m\u001b[0m\u001b[0;34m\u001b[0m\u001b[0m\n\u001b[0;32m--> 439\u001b[0;31m             raise MissingSchema(\n\u001b[0m\u001b[1;32m    440\u001b[0m                 \u001b[0;34mf\"Invalid URL {url!r}: No scheme supplied. \"\u001b[0m\u001b[0;34m\u001b[0m\u001b[0;34m\u001b[0m\u001b[0m\n\u001b[1;32m    441\u001b[0m                 \u001b[0;34mf\"Perhaps you meant https://{url}?\"\u001b[0m\u001b[0;34m\u001b[0m\u001b[0;34m\u001b[0m\u001b[0m\n",
            "\u001b[0;31mMissingSchema\u001b[0m: Invalid URL '': No scheme supplied. Perhaps you meant https://?"
          ]
        }
      ],
      "source": [
        "data = requests.get(url)"
      ]
    },
    {
      "cell_type": "code",
      "execution_count": null,
      "id": "a433411c",
      "metadata": {
        "id": "a433411c"
      },
      "outputs": [],
      "source": [
        "articles = data.json()"
      ]
    },
    {
      "cell_type": "code",
      "execution_count": null,
      "id": "d0512827",
      "metadata": {
        "id": "d0512827"
      },
      "outputs": [],
      "source": [
        "allStories = articles['response']['docs']"
      ]
    },
    {
      "cell_type": "code",
      "execution_count": null,
      "id": "63d1214a",
      "metadata": {
        "id": "63d1214a"
      },
      "outputs": [],
      "source": [
        "def day_articles(day, all_articles):\n",
        "    articles = []\n",
        "    # changes date from string to date object\n",
        "    day = datetime.strptime(day, \"%Y-%m-%d\")\n",
        "\n",
        "    for article in all_articles:\n",
        "        pub_date = datetime.strptime(article['pub_date'][:10], \"%Y-%m-%d\")\n",
        "        if pub_date == day:\n",
        "            articles.append(article)\n",
        "\n",
        "    return articles"
      ]
    },
    {
      "cell_type": "code",
      "execution_count": null,
      "id": "393104d9-0d09-4a33-b8a5-17f3ebe08407",
      "metadata": {
        "id": "393104d9-0d09-4a33-b8a5-17f3ebe08407",
        "outputId": "fc5d2a12-7225-4640-fb3d-296ae134bb8d"
      },
      "outputs": [
        {
          "data": {
            "text/plain": [
              "[{'abstract': 'A Cetaphil commercial showed a father and daughter connecting over football and the music superstar. But a social media influencer said the idea was stolen from her.',\n",
              "  'web_url': 'https://www.nytimes.com/2024/02/11/business/cetaphil-taylor-swift-commercial.html',\n",
              "  'snippet': 'A Cetaphil commercial showed a father and daughter connecting over football and the music superstar. But a social media influencer said the idea was stolen from her.',\n",
              "  'lead_paragraph': 'When an advertisement for Cetaphil lotion was released online days before the Super Bowl, it drew rave reviews for a narrative that evoked a familiar story for parents, football fans and followers of Taylor Swift.',\n",
              "  'source': 'The New York Times',\n",
              "  'multimedia': [{'rank': 0,\n",
              "    'subtype': 'xlarge',\n",
              "    'caption': None,\n",
              "    'credit': None,\n",
              "    'type': 'image',\n",
              "    'url': 'images/2024/02/11/business/11Cetaphil/11Cetaphil-articleLarge.jpg',\n",
              "    'height': 338,\n",
              "    'width': 600,\n",
              "    'subType': 'xlarge',\n",
              "    'crop_name': 'articleLarge',\n",
              "    'legacy': {'xlarge': 'images/2024/02/11/business/11Cetaphil/11Cetaphil-articleLarge.jpg',\n",
              "     'xlargewidth': 600,\n",
              "     'xlargeheight': 338}},\n",
              "   {'rank': 0,\n",
              "    'subtype': 'jumbo',\n",
              "    'caption': None,\n",
              "    'credit': None,\n",
              "    'type': 'image',\n",
              "    'url': 'images/2024/02/11/business/11Cetaphil/11Cetaphil-jumbo.jpg',\n",
              "    'height': 576,\n",
              "    'width': 1024,\n",
              "    'subType': 'jumbo',\n",
              "    'crop_name': 'jumbo',\n",
              "    'legacy': {}},\n",
              "   {'rank': 0,\n",
              "    'subtype': 'superJumbo',\n",
              "    'caption': None,\n",
              "    'credit': None,\n",
              "    'type': 'image',\n",
              "    'url': 'images/2024/02/11/business/11Cetaphil/11Cetaphil-superJumbo.jpg',\n",
              "    'height': 1152,\n",
              "    'width': 2048,\n",
              "    'subType': 'superJumbo',\n",
              "    'crop_name': 'superJumbo',\n",
              "    'legacy': {}},\n",
              "   {'rank': 0,\n",
              "    'subtype': 'thumbnail',\n",
              "    'caption': None,\n",
              "    'credit': None,\n",
              "    'type': 'image',\n",
              "    'url': 'images/2024/02/11/business/11Cetaphil/11Cetaphil-thumbStandard.jpg',\n",
              "    'height': 75,\n",
              "    'width': 75,\n",
              "    'subType': 'thumbnail',\n",
              "    'crop_name': 'thumbStandard',\n",
              "    'legacy': {'thumbnail': 'images/2024/02/11/business/11Cetaphil/11Cetaphil-thumbStandard.jpg',\n",
              "     'thumbnailwidth': 75,\n",
              "     'thumbnailheight': 75}},\n",
              "   {'rank': 0,\n",
              "    'subtype': 'thumbLarge',\n",
              "    'caption': None,\n",
              "    'credit': None,\n",
              "    'type': 'image',\n",
              "    'url': 'images/2024/02/11/business/11Cetaphil/11Cetaphil-thumbLarge.jpg',\n",
              "    'height': 150,\n",
              "    'width': 150,\n",
              "    'subType': 'thumbLarge',\n",
              "    'crop_name': 'thumbLarge',\n",
              "    'legacy': {}}],\n",
              "  'headline': {'main': 'Ad Nods to Taylor Swift and Football, Drawing Cheers and Criticism',\n",
              "   'kicker': None,\n",
              "   'content_kicker': None,\n",
              "   'print_headline': '',\n",
              "   'name': None,\n",
              "   'seo': None,\n",
              "   'sub': None},\n",
              "  'keywords': [{'name': 'subject',\n",
              "    'value': 'Advertising and Marketing',\n",
              "    'rank': 1,\n",
              "    'major': 'N'},\n",
              "   {'name': 'subject', 'value': 'Super Bowl', 'rank': 2, 'major': 'N'},\n",
              "   {'name': 'subject',\n",
              "    'value': 'Cosmetics and Toiletries',\n",
              "    'rank': 3,\n",
              "    'major': 'N'},\n",
              "   {'name': 'persons', 'value': 'Swift, Taylor', 'rank': 4, 'major': 'N'},\n",
              "   {'name': 'persons', 'value': 'Kelce, Travis', 'rank': 5, 'major': 'N'},\n",
              "   {'name': 'subject', 'value': 'Social Media', 'rank': 7, 'major': 'N'},\n",
              "   {'name': 'organizations',\n",
              "    'value': 'TikTok (ByteDance)',\n",
              "    'rank': 8,\n",
              "    'major': 'N'}],\n",
              "  'pub_date': '2024-02-12T00:30:32+0000',\n",
              "  'document_type': 'article',\n",
              "  'news_desk': 'Business',\n",
              "  'section_name': 'Business Day',\n",
              "  'byline': {'original': 'By Santul Nerkar',\n",
              "   'person': [{'firstname': 'Santul',\n",
              "     'middlename': None,\n",
              "     'lastname': 'Nerkar',\n",
              "     'qualifier': None,\n",
              "     'title': None,\n",
              "     'role': 'reported',\n",
              "     'organization': '',\n",
              "     'rank': 1}],\n",
              "   'organization': None},\n",
              "  'type_of_material': 'News',\n",
              "  '_id': 'nyt://article/0df7d416-c489-5dfd-88fb-feb1f5134a9a',\n",
              "  'word_count': 718,\n",
              "  'uri': 'nyt://article/0df7d416-c489-5dfd-88fb-feb1f5134a9a'},\n",
              " {'abstract': 'Taylor Swift and Travis Kelce have been the subject of right-wing conspiracy theories for months.',\n",
              "  'web_url': 'https://www.nytimes.com/2024/02/11/us/politics/trump-taylor-swift-travis-kelce.html',\n",
              "  'snippet': 'Taylor Swift and Travis Kelce have been the subject of right-wing conspiracy theories for months.',\n",
              "  'lead_paragraph': 'Extending a weekslong right-wing meltdown over Taylor Swift’s political preferences, former President Donald J. Trump declared on Sunday that it would be “disloyal” for Ms. Swift to endorse President Biden for re-election, given that Mr. Trump signed legislation that made it easier for artists to collect royalties when their songs are streamed.',\n",
              "  'source': 'The New York Times',\n",
              "  'multimedia': [{'rank': 0,\n",
              "    'subtype': 'xlarge',\n",
              "    'caption': None,\n",
              "    'credit': None,\n",
              "    'type': 'image',\n",
              "    'url': 'images/2024/02/11/multimedia/11pol-swift-qlct/11pol-swift-qlct-articleLarge.jpg',\n",
              "    'height': 400,\n",
              "    'width': 600,\n",
              "    'subType': 'xlarge',\n",
              "    'crop_name': 'articleLarge',\n",
              "    'legacy': {'xlarge': 'images/2024/02/11/multimedia/11pol-swift-qlct/11pol-swift-qlct-articleLarge.jpg',\n",
              "     'xlargewidth': 600,\n",
              "     'xlargeheight': 400}},\n",
              "   {'rank': 0,\n",
              "    'subtype': 'jumbo',\n",
              "    'caption': None,\n",
              "    'credit': None,\n",
              "    'type': 'image',\n",
              "    'url': 'images/2024/02/11/multimedia/11pol-swift-qlct/11pol-swift-qlct-jumbo.jpg',\n",
              "    'height': 683,\n",
              "    'width': 1024,\n",
              "    'subType': 'jumbo',\n",
              "    'crop_name': 'jumbo',\n",
              "    'legacy': {}},\n",
              "   {'rank': 0,\n",
              "    'subtype': 'superJumbo',\n",
              "    'caption': None,\n",
              "    'credit': None,\n",
              "    'type': 'image',\n",
              "    'url': 'images/2024/02/11/multimedia/11pol-swift-qlct/11pol-swift-qlct-superJumbo.jpg',\n",
              "    'height': 1365,\n",
              "    'width': 2048,\n",
              "    'subType': 'superJumbo',\n",
              "    'crop_name': 'superJumbo',\n",
              "    'legacy': {}},\n",
              "   {'rank': 0,\n",
              "    'subtype': 'thumbnail',\n",
              "    'caption': None,\n",
              "    'credit': None,\n",
              "    'type': 'image',\n",
              "    'url': 'images/2024/02/11/multimedia/11pol-swift-qlct/11pol-swift-qlct-thumbStandard.jpg',\n",
              "    'height': 75,\n",
              "    'width': 75,\n",
              "    'subType': 'thumbnail',\n",
              "    'crop_name': 'thumbStandard',\n",
              "    'legacy': {'thumbnail': 'images/2024/02/11/multimedia/11pol-swift-qlct/11pol-swift-qlct-thumbStandard.jpg',\n",
              "     'thumbnailwidth': 75,\n",
              "     'thumbnailheight': 75}},\n",
              "   {'rank': 0,\n",
              "    'subtype': 'thumbLarge',\n",
              "    'caption': None,\n",
              "    'credit': None,\n",
              "    'type': 'image',\n",
              "    'url': 'images/2024/02/11/multimedia/11pol-swift-qlct/11pol-swift-qlct-thumbLarge.jpg',\n",
              "    'height': 150,\n",
              "    'width': 150,\n",
              "    'subType': 'thumbLarge',\n",
              "    'crop_name': 'thumbLarge',\n",
              "    'legacy': {}}],\n",
              "  'headline': {'main': 'Trump Says It Would Be ‘Disloyal’ for Taylor Swift to Endorse Biden',\n",
              "   'kicker': None,\n",
              "   'content_kicker': None,\n",
              "   'print_headline': '',\n",
              "   'name': None,\n",
              "   'seo': None,\n",
              "   'sub': None},\n",
              "  'keywords': [{'name': 'persons',\n",
              "    'value': 'Swift, Taylor',\n",
              "    'rank': 1,\n",
              "    'major': 'N'},\n",
              "   {'name': 'persons', 'value': 'Kelce, Travis', 'rank': 2, 'major': 'N'},\n",
              "   {'name': 'persons', 'value': 'Trump, Donald J', 'rank': 3, 'major': 'N'},\n",
              "   {'name': 'persons', 'value': 'Biden, Joseph R Jr', 'rank': 4, 'major': 'N'},\n",
              "   {'name': 'subject',\n",
              "    'value': 'United States Politics and Government',\n",
              "    'rank': 5,\n",
              "    'major': 'N'},\n",
              "   {'name': 'subject',\n",
              "    'value': 'Presidential Election of 2024',\n",
              "    'rank': 6,\n",
              "    'major': 'N'},\n",
              "   {'name': 'subject',\n",
              "    'value': 'Right-Wing Extremism and Alt-Right',\n",
              "    'rank': 7,\n",
              "    'major': 'N'},\n",
              "   {'name': 'subject',\n",
              "    'value': 'Conspiracy Theories',\n",
              "    'rank': 8,\n",
              "    'major': 'N'}],\n",
              "  'pub_date': '2024-02-12T00:32:24+0000',\n",
              "  'document_type': 'article',\n",
              "  'news_desk': 'Politics',\n",
              "  'section_name': 'U.S.',\n",
              "  'subsection_name': 'Politics',\n",
              "  'byline': {'original': 'By Maggie Astor',\n",
              "   'person': [{'firstname': 'Maggie',\n",
              "     'middlename': None,\n",
              "     'lastname': 'Astor',\n",
              "     'qualifier': None,\n",
              "     'title': None,\n",
              "     'role': 'reported',\n",
              "     'organization': '',\n",
              "     'rank': 1}],\n",
              "   'organization': None},\n",
              "  'type_of_material': 'News',\n",
              "  '_id': 'nyt://article/29b7f383-9376-57ee-abda-dd0ba9bab52f',\n",
              "  'word_count': 298,\n",
              "  'uri': 'nyt://article/29b7f383-9376-57ee-abda-dd0ba9bab52f'},\n",
              " {'abstract': 'In a halftime set that touched on more than a dozen songs, the R&B star delivered a raucous Atlanta party and a lesson in intimate showmanship.',\n",
              "  'web_url': 'https://www.nytimes.com/2024/02/11/arts/music/usher-super-bowl-halftime-review.html',\n",
              "  'snippet': 'In a halftime set that touched on more than a dozen songs, the R&B star delivered a raucous Atlanta party and a lesson in intimate showmanship.',\n",
              "  'lead_paragraph': 'A few minutes into Usher’s dynamic and sly Super Bowl LVIII halftime show performance Sunday night at Allegiant Stadium in Las Vegas came a moment of uncommon, almost startling calm.',\n",
              "  'print_section': 'C',\n",
              "  'print_page': '1',\n",
              "  'source': 'The New York Times',\n",
              "  'multimedia': [{'rank': 0,\n",
              "    'subtype': 'xlarge',\n",
              "    'caption': None,\n",
              "    'credit': None,\n",
              "    'type': 'image',\n",
              "    'url': 'images/2024/02/13/multimedia/11usher-halftime-review-01-hcvl/11usher-halftime-review-01-hcvl-articleLarge-v3.jpg',\n",
              "    'height': 400,\n",
              "    'width': 600,\n",
              "    'subType': 'xlarge',\n",
              "    'crop_name': 'articleLarge',\n",
              "    'legacy': {'xlarge': 'images/2024/02/13/multimedia/11usher-halftime-review-01-hcvl/11usher-halftime-review-01-hcvl-articleLarge-v3.jpg',\n",
              "     'xlargewidth': 600,\n",
              "     'xlargeheight': 400}},\n",
              "   {'rank': 0,\n",
              "    'subtype': 'jumbo',\n",
              "    'caption': None,\n",
              "    'credit': None,\n",
              "    'type': 'image',\n",
              "    'url': 'images/2024/02/13/multimedia/11usher-halftime-review-01-hcvl/11usher-halftime-review-01-hcvl-jumbo-v3.jpg',\n",
              "    'height': 683,\n",
              "    'width': 1024,\n",
              "    'subType': 'jumbo',\n",
              "    'crop_name': 'jumbo',\n",
              "    'legacy': {}},\n",
              "   {'rank': 0,\n",
              "    'subtype': 'superJumbo',\n",
              "    'caption': None,\n",
              "    'credit': None,\n",
              "    'type': 'image',\n",
              "    'url': 'images/2024/02/13/multimedia/11usher-halftime-review-01-hcvl/11usher-halftime-review-01-hcvl-superJumbo-v3.jpg',\n",
              "    'height': 1365,\n",
              "    'width': 2048,\n",
              "    'subType': 'superJumbo',\n",
              "    'crop_name': 'superJumbo',\n",
              "    'legacy': {}},\n",
              "   {'rank': 0,\n",
              "    'subtype': 'thumbnail',\n",
              "    'caption': None,\n",
              "    'credit': None,\n",
              "    'type': 'image',\n",
              "    'url': 'images/2024/02/13/multimedia/11usher-halftime-review-01-hcvl/11usher-halftime-review-01-hcvl-thumbStandard.jpg',\n",
              "    'height': 75,\n",
              "    'width': 75,\n",
              "    'subType': 'thumbnail',\n",
              "    'crop_name': 'thumbStandard',\n",
              "    'legacy': {'thumbnail': 'images/2024/02/13/multimedia/11usher-halftime-review-01-hcvl/11usher-halftime-review-01-hcvl-thumbStandard.jpg',\n",
              "     'thumbnailwidth': 75,\n",
              "     'thumbnailheight': 75}},\n",
              "   {'rank': 0,\n",
              "    'subtype': 'thumbLarge',\n",
              "    'caption': None,\n",
              "    'credit': None,\n",
              "    'type': 'image',\n",
              "    'url': 'images/2024/02/13/multimedia/11usher-halftime-review-01-hcvl/11usher-halftime-review-01-hcvl-thumbLarge.jpg',\n",
              "    'height': 150,\n",
              "    'width': 150,\n",
              "    'subType': 'thumbLarge',\n",
              "    'crop_name': 'thumbLarge',\n",
              "    'legacy': {}}],\n",
              "  'headline': {'main': 'Usher Brings Precise Details to Pop’s Biggest Stage: The Super Bowl',\n",
              "   'kicker': 'Review',\n",
              "   'content_kicker': None,\n",
              "   'print_headline': 'An Intimate Show for an Immense Crowd',\n",
              "   'name': None,\n",
              "   'seo': None,\n",
              "   'sub': None},\n",
              "  'keywords': [{'name': 'subject',\n",
              "    'value': 'Rap and Hip-Hop',\n",
              "    'rank': 1,\n",
              "    'major': 'N'},\n",
              "   {'name': 'subject', 'value': 'Super Bowl', 'rank': 2, 'major': 'N'},\n",
              "   {'name': 'persons', 'value': 'Usher', 'rank': 3, 'major': 'N'},\n",
              "   {'name': 'persons', 'value': 'Keys, Alicia', 'rank': 4, 'major': 'N'},\n",
              "   {'name': 'persons', 'value': 'Ludacris', 'rank': 5, 'major': 'N'},\n",
              "   {'name': 'persons', 'value': 'Lil Jon', 'rank': 6, 'major': 'N'},\n",
              "   {'name': 'persons', 'value': 'Will.i.am (1975- )', 'rank': 7, 'major': 'N'},\n",
              "   {'name': 'persons',\n",
              "    'value': 'Wilson, Gabriella (HER)',\n",
              "    'rank': 8,\n",
              "    'major': 'N'}],\n",
              "  'pub_date': '2024-02-12T02:14:00+0000',\n",
              "  'document_type': 'article',\n",
              "  'news_desk': 'Culture',\n",
              "  'section_name': 'Arts',\n",
              "  'subsection_name': 'Music',\n",
              "  'byline': {'original': 'By Jon Caramanica',\n",
              "   'person': [{'firstname': 'Jon',\n",
              "     'middlename': None,\n",
              "     'lastname': 'Caramanica',\n",
              "     'qualifier': None,\n",
              "     'title': None,\n",
              "     'role': 'reported',\n",
              "     'organization': '',\n",
              "     'rank': 1}],\n",
              "   'organization': None},\n",
              "  'type_of_material': 'Review',\n",
              "  '_id': 'nyt://article/17a6b837-9578-5ddf-8754-a5336441f841',\n",
              "  'word_count': 808,\n",
              "  'uri': 'nyt://article/17a6b837-9578-5ddf-8754-a5336441f841'}]"
            ]
          },
          "execution_count": 7,
          "metadata": {},
          "output_type": "execute_result"
        }
      ],
      "source": [
        "result = day_articles(\"2024-02-12\", allStories)\n",
        "result[:3]"
      ]
    },
    {
      "cell_type": "code",
      "execution_count": null,
      "id": "40f2b27d-ef7a-41ee-8b24-a01c40dfa881",
      "metadata": {
        "id": "40f2b27d-ef7a-41ee-8b24-a01c40dfa881"
      },
      "outputs": [],
      "source": []
    },
    {
      "cell_type": "markdown",
      "id": "0839c55f",
      "metadata": {
        "id": "0839c55f"
      },
      "source": [
        "Amy Task: 2. Write some code that explores whether the fields \"abstract\" and \"snippet\" are always the same or often differ. Which one has more information?\n"
      ]
    },
    {
      "cell_type": "code",
      "execution_count": null,
      "id": "8b3f4c88",
      "metadata": {
        "id": "8b3f4c88",
        "outputId": "77fd80c9-edc0-4b7f-f17a-57e68ea9d684"
      },
      "outputs": [
        {
          "data": {
            "text/plain": [
              "dict_keys(['abstract', 'web_url', 'snippet', 'lead_paragraph', 'source', 'multimedia', 'headline', 'keywords', 'pub_date', 'document_type', 'news_desk', 'section_name', 'byline', 'type_of_material', '_id', 'word_count', 'uri'])"
            ]
          },
          "execution_count": 13,
          "metadata": {},
          "output_type": "execute_result"
        }
      ],
      "source": [
        "articles = day_articles(\"2024-02-12\", allStories)\n",
        "articles[0].keys()"
      ]
    },
    {
      "cell_type": "code",
      "execution_count": null,
      "id": "efefbd7c",
      "metadata": {
        "id": "efefbd7c",
        "outputId": "9b71950e-4c51-4c07-c3a0-f4497c9aae9b"
      },
      "outputs": [
        {
          "name": "stdout",
          "output_type": "stream",
          "text": [
            "0\n"
          ]
        }
      ],
      "source": [
        "# Find any document with difference snippet and abstract\n",
        "differences = []\n",
        "for doc in articles:\n",
        "    #print(doc)\n",
        "    if doc['snippet'] != \"\" and doc['abstract'] !=\"\" and doc['abstract']!=doc['snippet']:\n",
        "        differences.append(doc)\n",
        "        print(\"Abstract: \"+doc['abstract'])\n",
        "        print(\"Snippet: \"+doc['snippet'])\n",
        "print(len(differences))\n"
      ]
    },
    {
      "cell_type": "code",
      "execution_count": null,
      "id": "f065864b",
      "metadata": {
        "id": "f065864b",
        "outputId": "3f0f9a0f-2512-4fdd-9b00-20d11e2a997f"
      },
      "outputs": [
        {
          "name": "stdout",
          "output_type": "stream",
          "text": [
            "0\n"
          ]
        }
      ],
      "source": [
        "# Note: Some abstract and snippet are 'different' in the way that snippet ends earlier with '...'\n",
        "# Removes those occurrences from differences\n",
        "differences = [doc for doc in differences if not (doc['snippet'][-3:]==\"...\" and doc['abstract'][:len(doc['snippet'])-3]==doc['snippet'][:-3])]\n",
        "print(len(differences))"
      ]
    },
    {
      "cell_type": "code",
      "execution_count": null,
      "id": "2ade1993",
      "metadata": {
        "id": "2ade1993"
      },
      "outputs": [],
      "source": [
        "# Rachel Task 3: given one article (in its nested structure), creates a flat dictionary with keys that are relevant for analysis\n",
        "def gen_flat_dict(article):\n",
        "    flat_dict = {}\n",
        "\n",
        "    flat_dict['abstract'] = article['abstract']\n",
        "    flat_dict['section_name'] = article['section_name']\n",
        "    flat_dict['subsection_name'] = article.get('subsection_name', '')\n",
        "    flat_dict['lead_paragraph'] = article['lead_paragraph']\n",
        "    flat_dict['headline'] = article['headline']['main']\n",
        "    # snippet or abstract (snippet in this case)\n",
        "    flat_dict['snippet'] = article['snippet']\n",
        "\n",
        "    # keywords concatenated via semicolon\n",
        "    keywords = [keyword['value'] for keyword in article['keywords']]\n",
        "    flat_dict['keywords'] = ';'.join(keywords)\n",
        "\n",
        "    flat_dict['pub_date'] = article['pub_date']\n",
        "    flat_dict['document_type'] = article['document_type']\n",
        "    flat_dict['section_name'] = article['section_name']\n",
        "    flat_dict['type_of_material'] = article['type_of_material']\n",
        "\n",
        "    return flat_dict\n"
      ]
    }
  ],
  "metadata": {
    "kernelspec": {
      "display_name": "Python 3 (ipykernel)",
      "language": "python",
      "name": "python3"
    },
    "language_info": {
      "codemirror_mode": {
        "name": "ipython",
        "version": 3
      },
      "file_extension": ".py",
      "mimetype": "text/x-python",
      "name": "python",
      "nbconvert_exporter": "python",
      "pygments_lexer": "ipython3",
      "version": "3.9.12"
    },
    "colab": {
      "provenance": []
    }
  },
<<<<<<< HEAD:Group NYT API.ipynb
  "nbformat": 4,
  "nbformat_minor": 5
}
=======
  {
   "cell_type": "code",
   "execution_count": null,
   "id": "40f2b27d-ef7a-41ee-8b24-a01c40dfa881",
   "metadata": {},
   "outputs": [],
   "source": []
  },
  {
   "cell_type": "markdown",
   "id": "0839c55f",
   "metadata": {},
   "source": [
    "Amy Task: 2. Write some code that explores whether the fields \"abstract\" and \"snippet\" are always the same or often differ. Which one has more information?\n"
   ]
  },
  {
   "cell_type": "code",
   "execution_count": 13,
   "id": "8b3f4c88",
   "metadata": {},
   "outputs": [
    {
     "data": {
      "text/plain": [
       "dict_keys(['abstract', 'web_url', 'snippet', 'lead_paragraph', 'source', 'multimedia', 'headline', 'keywords', 'pub_date', 'document_type', 'news_desk', 'section_name', 'byline', 'type_of_material', '_id', 'word_count', 'uri'])"
      ]
     },
     "execution_count": 13,
     "metadata": {},
     "output_type": "execute_result"
    }
   ],
   "source": [
    "articles = day_articles(\"2024-02-12\", allStories)\n",
    "articles[0].keys()"
   ]
  },
  {
   "cell_type": "code",
   "execution_count": 19,
   "id": "efefbd7c",
   "metadata": {},
   "outputs": [
    {
     "name": "stdout",
     "output_type": "stream",
     "text": [
      "0\n"
     ]
    }
   ],
   "source": [
    "# Find any document with difference snippet and abstract\n",
    "differences = []\n",
    "for doc in articles:\n",
    "    #print(doc)\n",
    "    if doc['snippet'] != \"\" and doc['abstract'] !=\"\" and doc['abstract']!=doc['snippet']:\n",
    "        differences.append(doc)\n",
    "        print(\"Abstract: \"+doc['abstract'])\n",
    "        print(\"Snippet: \"+doc['snippet'])\n",
    "print(len(differences))\n"
   ]
  },
  {
   "cell_type": "code",
   "execution_count": 15,
   "id": "f065864b",
   "metadata": {},
   "outputs": [
    {
     "name": "stdout",
     "output_type": "stream",
     "text": [
      "0\n"
     ]
    }
   ],
   "source": [
    "# Note: Some abstract and snippet are 'different' in the way that snippet ends earlier with '...'\n",
    "# Removes those occurrences from differences\n",
    "differences = [doc for doc in differences if not (doc['snippet'][-3:]==\"...\" and doc['abstract'][:len(doc['snippet'])-3]==doc['snippet'][:-3])]\n",
    "print(len(differences))"
   ]
  },
  {
   "cell_type": "code",
   "execution_count": null,
   "id": "2ade1993",
   "metadata": {},
   "outputs": [],
   "source": []
  }
 ],
 "metadata": {
  "kernelspec": {
   "display_name": "Python 3 (ipykernel)",
   "language": "python",
   "name": "python3"
  },
  "language_info": {
   "codemirror_mode": {
    "name": "ipython",
    "version": 3
   },
   "file_extension": ".py",
   "mimetype": "text/x-python",
   "name": "python",
   "nbconvert_exporter": "python",
   "pygments_lexer": "ipython3",
   "version": "3.9.7"
  }
 },
 "nbformat": 4,
 "nbformat_minor": 5
}
>>>>>>> refs/remotes/origin/main:Group assignments/Group NYT API.ipynb
