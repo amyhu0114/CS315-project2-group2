{
 "cells": [
  {
   "cell_type": "markdown",
   "id": "96be4565-02d6-4e42-9fe8-84b5a109be01",
   "metadata": {},
   "source": [
    "**Do our users follow news accounts?**\n",
    "1. Extract the account list a user follows from their “user_data.json”.\n",
    "2. Compare this list to our list of News accounts. Is there an overlap?\n",
    "3. Our list might be incomplete. Could some of the accounts still be news-related?\n",
    "4. We could scrape the TikTok pages of these accounts"
   ]
  },
  {
   "cell_type": "code",
   "execution_count": 1,
   "id": "f1f8386b-19f1-44a2-8224-f73d85d74afd",
   "metadata": {},
   "outputs": [
    {
     "name": "stderr",
     "output_type": "stream",
     "text": [
      "/var/folders/nd/my_j6y6s0p544s5nzvtvnntm0000gn/T/ipykernel_22330/718841525.py:4: DeprecationWarning: \n",
      "Pyarrow will become a required dependency of pandas in the next major release of pandas (pandas 3.0),\n",
      "(to allow more performant data types, such as the Arrow string type, and better interoperability with other libraries)\n",
      "but was not found to be installed on your system.\n",
      "If this would cause problems for you,\n",
      "please provide us feedback at https://github.com/pandas-dev/pandas/issues/54466\n",
      "        \n",
      "  from pandas import Series, DataFrame\n"
     ]
    }
   ],
   "source": [
    "import os\n",
    "import json\n",
    "import csv\n",
    "from pandas import Series, DataFrame\n",
    "import pandas as pd\n",
    "import dateutil.parser as dparser\n",
    "from random import randint"
   ]
  },
  {
   "cell_type": "code",
   "execution_count": 2,
   "id": "161250ec-68f1-4ee3-aff3-92e5d1ae253e",
   "metadata": {},
   "outputs": [],
   "source": [
    "with open(\"/Users/fridahntika/Documents/CS315/user_data.json\", \"r\") as inFile:\n",
    "    data = json.load(inFile)"
   ]
  },
  {
   "cell_type": "code",
   "execution_count": 3,
   "id": "e923ae25-25a0-46c5-a04f-56f9992d3bcd",
   "metadata": {},
   "outputs": [],
   "source": [
    "# extract the following and store in a list\n",
    "following = [f['UserName'] for f in data['Activity']['Following List']['Following']]"
   ]
  },
  {
   "cell_type": "code",
   "execution_count": 6,
   "id": "4afca8f9-f3dc-4530-8a6d-2538151586f8",
   "metadata": {},
   "outputs": [
    {
     "data": {
      "text/html": [
       "<div>\n",
       "<style scoped>\n",
       "    .dataframe tbody tr th:only-of-type {\n",
       "        vertical-align: middle;\n",
       "    }\n",
       "\n",
       "    .dataframe tbody tr th {\n",
       "        vertical-align: top;\n",
       "    }\n",
       "\n",
       "    .dataframe thead th {\n",
       "        text-align: right;\n",
       "    }\n",
       "</style>\n",
       "<table border=\"1\" class=\"dataframe\">\n",
       "  <thead>\n",
       "    <tr style=\"text-align: right;\">\n",
       "      <th></th>\n",
       "      <th>Username</th>\n",
       "      <th>Name</th>\n",
       "      <th>Description</th>\n",
       "      <th>Verified</th>\n",
       "      <th>Student Initials</th>\n",
       "      <th>Unnamed: 5</th>\n",
       "    </tr>\n",
       "  </thead>\n",
       "  <tbody>\n",
       "    <tr>\n",
       "      <th>0</th>\n",
       "      <td>nytimes</td>\n",
       "      <td>The New York Times</td>\n",
       "      <td>We seek the truth and help people understand t...</td>\n",
       "      <td>Yes</td>\n",
       "      <td>EM</td>\n",
       "      <td>NaN</td>\n",
       "    </tr>\n",
       "    <tr>\n",
       "      <th>1</th>\n",
       "      <td>washingtonpost</td>\n",
       "      <td>The Washington Post</td>\n",
       "      <td>We are a newspaper</td>\n",
       "      <td>Yes</td>\n",
       "      <td>DAK</td>\n",
       "      <td>NaN</td>\n",
       "    </tr>\n",
       "    <tr>\n",
       "      <th>2</th>\n",
       "      <td>cnn</td>\n",
       "      <td>CNN</td>\n",
       "      <td>This is CNN</td>\n",
       "      <td>Yes</td>\n",
       "      <td>DAK</td>\n",
       "      <td>NaN</td>\n",
       "    </tr>\n",
       "    <tr>\n",
       "      <th>3</th>\n",
       "      <td>pbsnews</td>\n",
       "      <td>PBS NEWS HOUR</td>\n",
       "      <td>A + News, C- Dancing</td>\n",
       "      <td>Yes</td>\n",
       "      <td>DAK</td>\n",
       "      <td>NaN</td>\n",
       "    </tr>\n",
       "    <tr>\n",
       "      <th>4</th>\n",
       "      <td>abcnews</td>\n",
       "      <td>ABC News</td>\n",
       "      <td>All the news and information you need to see, ...</td>\n",
       "      <td>Yes</td>\n",
       "      <td>DAK</td>\n",
       "      <td>NaN</td>\n",
       "    </tr>\n",
       "  </tbody>\n",
       "</table>\n",
       "</div>"
      ],
      "text/plain": [
       "         Username                Name   \\\n",
       "0         nytimes   The New York Times   \n",
       "1  washingtonpost  The Washington Post   \n",
       "2             cnn                  CNN   \n",
       "3         pbsnews        PBS NEWS HOUR   \n",
       "4         abcnews             ABC News   \n",
       "\n",
       "                                         Description Verified  \\\n",
       "0  We seek the truth and help people understand t...      Yes   \n",
       "1                                 We are a newspaper      Yes   \n",
       "2                                        This is CNN      Yes   \n",
       "3                               A + News, C- Dancing      Yes   \n",
       "4  All the news and information you need to see, ...      Yes   \n",
       "\n",
       "  Student Initials Unnamed: 5  \n",
       "0               EM        NaN  \n",
       "1              DAK        NaN  \n",
       "2              DAK        NaN  \n",
       "3              DAK        NaN  \n",
       "4              DAK        NaN  "
      ]
     },
     "execution_count": 6,
     "metadata": {},
     "output_type": "execute_result"
    }
   ],
   "source": [
    "# list of news accounts we came up with\n",
    "news_accounts = pd.read_csv('/Users/fridahntika/Documents/CS315/Project 2/CS315-project2-group2/data/news.csv')\n",
    "news_accounts.head()"
   ]
  },
  {
   "cell_type": "code",
   "execution_count": 8,
   "id": "2f7d5040-55f8-4cf0-8b6f-ae8af9d8ba10",
   "metadata": {},
   "outputs": [
    {
     "data": {
      "text/plain": [
       "[]"
      ]
     },
     "execution_count": 8,
     "metadata": {},
     "output_type": "execute_result"
    }
   ],
   "source": [
    "accounts = [account for account in news_accounts['Username'] if account in following]\n",
    "accounts"
   ]
  }
 ],
 "metadata": {
  "kernelspec": {
   "display_name": "Python 3 (ipykernel)",
   "language": "python",
   "name": "python3"
  },
  "language_info": {
   "codemirror_mode": {
    "name": "ipython",
    "version": 3
   },
   "file_extension": ".py",
   "mimetype": "text/x-python",
   "name": "python",
   "nbconvert_exporter": "python",
   "pygments_lexer": "ipython3",
   "version": "3.11.5"
  }
 },
 "nbformat": 4,
 "nbformat_minor": 5
}
